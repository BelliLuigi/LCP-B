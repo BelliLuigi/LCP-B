{
 "cells": [
  {
   "cell_type": "code",
   "execution_count": 1,
   "id": "8a1b87f3-ffdd-4da0-b167-7c16f78f636a",
   "metadata": {
    "tags": []
   },
   "outputs": [],
   "source": [
    "import keras_tuner\n",
    "\n",
    "import numpy as np\n",
    "\n",
    "from keras.models import Sequential\n",
    "from keras.layers import Dense, Dropout\n",
    "\n",
    "import matplotlib as mpl\n",
    "import matplotlib.pyplot as plt\n",
    "# default font\n",
    "plt.rcParams['font.size'] = 13\n",
    "\n",
    "from sklearn.preprocessing import StandardScaler #one can \n",
    "\n",
    "%run useful.py\n",
    "\n",
    "# training data\n",
    "perc_train = 0.8"
   ]
  },
  {
   "cell_type": "code",
   "execution_count": null,
   "id": "b9554fc1-37eb-44ea-9547-57c488d3a5db",
   "metadata": {},
   "outputs": [],
   "source": []
  }
 ],
 "metadata": {
  "kernelspec": {
   "display_name": "Python 3 (ipykernel)",
   "language": "python",
   "name": "python3"
  },
  "language_info": {
   "codemirror_mode": {
    "name": "ipython",
    "version": 3
   },
   "file_extension": ".py",
   "mimetype": "text/x-python",
   "name": "python",
   "nbconvert_exporter": "python",
   "pygments_lexer": "ipython3",
   "version": "3.12.2"
  }
 },
 "nbformat": 4,
 "nbformat_minor": 5
}
