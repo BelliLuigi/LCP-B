


import pandas as pd
import numpy as np
import matplotlib.pyplot as plt
import seaborn as sns
from matplotlib import colors
from sklearn.cluster import DBSCAN, KMeans
from sklearn.metrics import normalized_mutual_info_score
from sklearn.decomposition import PCA
from sklearn.neighbors import NearestNeighbors





path = 'DATA/'
x = np.loadtxt(path + 'x_12d.dat')
label = np.loadtxt(path + 'y_12d.dat')


nn = 10
nbrs = NearestNeighbors(n_neighbors=nn+1).fit(x) #, algorithm='ball_tree'
d, ind = nbrs.kneighbors(x)
dd=d.T
# note: dd[0] has a trivial set of zeros
listc= ["#0000DD","#8000FF","#FF00FF","#FF0080","#DD0000",
        "#FF8000","#E0E000","#30D000","#00A030","#33A0A0"]#*40
for i in range(1,nn+1):
    plt.plot(np.sort(dd[i]),c=listc[i-1],label=str(i))
    plt.xlabel("Rank of the point")
    plt.ylabel("Distance from point")
    #plt.axhline(np.mean(dd[i]))
    #plt.show()

plt.legend(ncol=2, title='$i-th$ neighbor', fontsize=9)
plt.yticks(np.arange(0,500,50))
plt.ylim((-10,450))
plt.xticks(np.arange(0,700,100))
plt.xlim((-10,650))
mean_min_dist = np.mean(dd[1])
#plt.text(100,50,f'Mean minimum distance between points: {mean_min_dist:.2f}')
plt.show()

print("mean minimum distance between points: ",mean_min_dist)


eps_values = np.arange(0.01,4,0.05)* mean_min_dist
minPts_values = np.arange(2,51)
nmi_values = []

for eps in eps_values:
    for minPts in minPts_values:
        db = DBSCAN(eps=eps, min_samples=minPts, n_jobs=-1)
        pred = db.fit_predict(x)
        nmi = normalized_mutual_info_score(label, pred)
        nmi_values.append((eps, minPts, nmi))
        #if nmi == 0.7714454028652104:
        #    print(eps, minPts)



nmi_matrix = np.array([[nmi for eps, mP, nmi in nmi_values if eps == eps_val]
                       for eps_val in eps_values])
#nmi_matrix = np.reshape(nmi_values, (len(eps_values), len(minPts_values)))
nmi_values = np.array(nmi_values)


fig, ax = plt.subplots(layout='constrained')
heatmap =sns.heatmap(nmi_matrix, xticklabels=minPts_values, yticklabels=eps_values, ax=ax, vmin=0,vmax=1,cmap='viridis', cbar_kws={'label':'score'})
plt.title('12 dim data')
plt.ylabel('epsilon')
plt.xlabel('min_Pts')

#print(nmi_matrix.max())

plt.xticks(np.arange(2,51,5),np.arange(2,51,5) )
plt.xlim(0,51)
plt.yticks(np.arange(0,len(eps_values),5), np.round(np.arange(0.01,4,0.25)*mean_min_dist, 0))

#plt.imshow(nmi_matrix)
plt.show()








features = np.arange(1,13)
df_x = pd.DataFrame(standardized_data, columns=features)
#plots = sns.pairplot(df_x)


df_x


def standardize(data):
    data_mean = np.mean(data, axis=0)
    data_std = np.std(data, axis=0)
    standardized_data = (data - data_mean ) / data_std
    return standardized_data

standardized_data = standardize(x)


PC = PCA()
PC.fit(standardized_data)
print(PC.explained_variance_ratio_)
reduced = PC.transform(standardized_data)

reduced_df = pd.DataFrame(reduced)
sns.pairplot(reduced_df)
plt.show()








kmeans = KMeans(n_clusters=2)
cluster_centers = kmeans.fit_predict(standardized_data)









