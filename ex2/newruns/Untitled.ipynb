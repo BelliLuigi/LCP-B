{
 "cells": [
  {
   "cell_type": "code",
   "execution_count": 21,
   "id": "fdd6fdbd-489d-49d8-9083-bc8fde366c03",
   "metadata": {},
   "outputs": [
    {
     "name": "stdout",
     "output_type": "stream",
     "text": [
      "File Rankings (best score first):\n",
      "4.   - Mean: -146.46, Std: 2.66 -- RBM_SPFalse_L8_act<ufunc 'exp'>_gam0.001_gradRMSprop_steps5_epochs150_minis20_Nini10_Nfin300_m0.5_M0.9_lri0.008_lrf0.005\n",
      "6.   - Mean: -147.42, Std: 4.23 -- RBM_SPFalse_L8_act<ufunc 'exp'>_gam0.001_gradRMSprop_steps1_epochs1000_minis20_Nini10_Nfin500_m0_M0\n",
      "7.   - Mean: -148.15, Std: 2.26 -- RBM_SPFalse_L8_act<ufunc 'exp'>_gam0.001_gradRMSprop_steps10_epochs300_minis20_Nini10_Nfin500_m0_M0\n",
      "8.   - Mean: -148.26, Std: 5.01 -- RBM_SPFalse_L8_act<ufunc 'exp'>_gam0.001_gradRMSprop_steps20_epochs300_minis20_Nini10_Nfin500_m0_M0\n",
      "9.   - Mean: -148.41, Std: 2.68 -- RBM_SPFalse_L8_act<ufunc 'exp'>_gam0.001_gradRMSprop_steps10_epochs150_minis20_Nini10_Nfin500_m0_M0\n",
      "10.   - Mean: -148.45, Std: 1.60 -- RBM_SPFalse_L8_act<ufunc 'exp'>_gam0.001_gradRMSprop_steps1_epochs100_minis20_Nini500_Nfin500_m0_M0\n",
      "11.   - Mean: -148.66, Std: 4.76 -- RBM_SPFalse_L8_act<ufunc 'exp'>_gam0.001_gradRMSprop_steps1_epochs400_minis20_Nini10_Nfin500_m0_M0\n",
      "13.   - Mean: -150.46, Std: 2.52 -- RBM_SPFalse_L8_act<ufunc 'exp'>_gam0.001_gradRMSprop_steps1_epochs300_minis20_Nini10_Nfin500_m0_M0\n",
      "14.   - Mean: -151.32, Std: 2.39 -- RBM_SPFalse_L8_act<ufunc 'exp'>_gam0.001_gradRMSprop_steps1_epochs150_minis20_Nini10_Nfin500_m0_M0\n",
      "15.   - Mean: -152.05, Std: 3.07 -- RBM_SPFalse_L8_act<ufunc 'exp'>_gam0.001_gradRMSprop_steps1_epochs400_minis500_Nini10_Nfin20_m0\n",
      "16.   - Mean: -156.96, Std: 5.08 -- RBM_SPFalse_L8_act<ufunc 'exp'>_gam0.001_gradRMSprop_steps1_epochs400_minis500_Nini10_Nfin20_m0.5_M0.5\n",
      "17.   - Mean: -159.48, Std: 4.07 -- _20250331_1055_RBM_Potts_SPFalse_L40_act<ufunc 'exp'>_gam0.01_gradRMSprop_steps2_epochs150_minis80_Nini50_Nfin150_m0_M0_lri0.05_lrf0.05\n",
      "18.   - Mean: -162.40, Std: 2.20 -- _20250331_1158_RBM_Potts_SPFalse_L10_act<ufunc 'exp'>_gam0.1_gradRMSprop_steps2_epochs400_minis50_Nini20_Nfin80_m0_M0_lri0.05_lrf0.05\n",
      "19.   - Mean: -163.34, Std: 4.64 -- _20250331_1144_RBM_Potts_SPFalse_L20_act<ufunc 'exp'>_gam0.1_gradRMSprop_steps2_epochs150_minis50_Nini10_Nfin50_m0_M0_lri0.05_lrf0.05\n",
      "20.   - Mean: -163.43, Std: 2.79 -- _20250331_1153_RBM_Potts_SPFalse_L10_act<ufunc 'exp'>_gam0.1_gradRMSprop_steps2_epochs400_minis50_Nini10_Nfin50_m0_M0_lri0.05_lrf0.05\n",
      "21.   - Mean: -163.67, Std: 3.49 -- _20250331_1151_RBM_Potts_SPFalse_L10_act<ufunc 'exp'>_gam0.1_gradRMSprop_steps2_epochs150_minis50_Nini10_Nfin50_m0_M0_lri0.05_lrf0.05\n",
      "22.   - Mean: -167.96, Std: 2.41 -- _20250331_0916_RBM_Potts_SPFalse_L15_act<ufunc 'exp'>_gam0.001_gradRMSprop_steps10_epochs150_minis20_Nini10_Nfin500_m0_M0_lri0.05_lrf0.05\n",
      "23.   - Mean: -169.01, Std: 1.72 -- _20250331_1046_RBM_Potts_SPFalse_L6_act<ufunc 'exp'>_gam0.001_gradAdam_steps2_epochs150_minis30_Nini10_Nfin30_m0_M0_lri0.05_lrf0.05\n",
      "24.   - Mean: -169.01, Std: 1.72 -- _20250331_1047_RBM_Potts_SPFalse_L6_act<ufunc 'exp'>_gam0.001_gradAdam_steps2_epochs150_minis30_Nini10_Nfin30_m0_M0_lri0.05_lrf0.05\n",
      "25.   - Mean: -169.70, Std: 3.79 -- _20250331_1044_RBM_Potts_SPFalse_L6_act<ufunc 'exp'>_gam0.001_gradSGD_steps2_epochs150_minis30_Nini10_Nfin30_m0_M0_lri1.0_lrf0.25\n",
      "26.   - Mean: -170.22, Std: 4.21 -- _20250331_1052_RBM_Potts_SPFalse_L10_act<ufunc 'exp'>_gam0.01_gradRMSprop_steps2_epochs150_minis10_Nini5_Nfin10_m0_M0_lri0.05_lrf0.05\n",
      "27.   - Mean: -170.74, Std: 3.68 -- _20250331_1053_RBM_Potts_SPFalse_L40_act<ufunc 'exp'>_gam0.01_gradRMSprop_steps2_epochs150_minis10_Nini5_Nfin10_m0_M0_lri0.05_lrf0.05\n",
      "28.   - Mean: -171.79, Std: 2.88 -- _20250331_0947_RBM_Potts_SPFalse_L6_act<ufunc 'exp'>_gam0.001_gradRMSprop_steps50_epochs150_minis30_Nini10_Nfin30_m0_M0_lri0.05_lrf0.05\n",
      "29.   - Mean: -171.79, Std: 2.88 -- _20250331_1029_RBM_Potts_SPFalse_L6_act<ufunc 'exp'>_gam0.001_gradRMSprop_steps50_epochs150_minis30_Nini10_Nfin30_m0_M0_lri0.05_lrf0.05\n",
      "30.   - Mean: -171.84, Std: 3.86 -- _20250331_1039_RBM_Potts_SPFalse_L6_act<ufunc 'exp'>_gam0.001_gradSGD_steps50_epochs150_minis30_Nini10_Nfin30_m0_M0_lri1.0_lrf0.25\n",
      "31.   - Mean: -173.05, Std: 2.67 -- _20250331_1034_RBM_Potts_SPFalse_L6_act<ufunc 'exp'>_gam0.001_gradRMSprop_steps50_epochs150_minis30_Nini10_Nfin30_m0_M0_lri0.05_lrf0.05\n",
      "32.   - Mean: -183.30, Std: 9.36 -- RBM_SPFalse_L8_act<ufunc 'exp'>_gam0.001_gradRMSprop_steps1_epochs400_minis500_Nini10_Nfin20_m0.9\n",
      "33.   - Mean: -183.97, Std: 7.53 -- _20250331_1051_RBM_Potts_SPFalse_L10_act<ufunc 'exp'>_gam0.01_gradRMSprop_steps2_epochs150_minis10_Nini5_Nfin10_m0_M0_lri0.05_lrf0.5\n",
      "35.   - Mean: -351.25, Std: 21.95 -- _20250331_1020_RBM_Potts_SPFalse_L6_act<function relu at 0x79dfaf8fd760>_gam0.001_gradRMSprop_steps50_epochs150_minis30_Nini10_Nfin30_m0_M0_lri0.05_lrf0.05\n",
      "36.   - Mean: -683.64, Std: 8.84 -- RBM_SPTrue_L8_act<ufunc 'exp'>_gam0.001_gradRMSprop_steps5_epochs150_minis20_Nini10_Nfin300_m0_M0_lri0.5_lrf0.5\n"
     ]
    }
   ],
   "source": [
    "import os\n",
    "import glob\n",
    "import numpy as np\n",
    "\n",
    "# Set your folder path here\n",
    "folder_path = \"./llh\"  # change this to the folder where your txt files are stored\n",
    "\n",
    "# List to store file metrics: (filename, mean, std, score)\n",
    "file_data = []\n",
    "\n",
    "# Get all .txt files in the folder\n",
    "txt_files = glob.glob(os.path.join(folder_path, '*'))\n",
    "for filepath in txt_files:\n",
    "    file = np.loadtxt(filepath)\n",
    "    mean_val = np.mean(file)\n",
    "    std_val = np.std(file)\n",
    "    file_data.append((os.path.basename(filepath), mean_val, std_val))\n",
    "# Rank files by score in descending order (highest score first)\n",
    "ranked_files = sorted(file_data, key=lambda x: x[1], reverse=True)\n",
    "\n",
    "print(\"File Rankings (best score first):\")\n",
    "for rank, (filename, mean_val, std_val) in enumerate(ranked_files, start=1):\n",
    "    if std_val == 0.00:\n",
    "        continue\n",
    "    print(f\"{rank}.   - Mean: {mean_val:.2f}, Std: {std_val:.2f} -- {filename}\")"
   ]
  },
  {
   "cell_type": "code",
   "execution_count": null,
   "id": "9dc85704-ed00-4dc0-9aa3-79e50543e4c3",
   "metadata": {},
   "outputs": [
    {
     "name": "stdout",
     "output_type": "stream",
     "text": [
      "File Rankings (best score first):\n",
      "4.   - Mean: -146.46, Std: 2.66 -- RBM_SPFalse_L8_act<ufunc 'exp'>_gam0.001_gradRMSprop_steps5_epochs150_minis20_Nini10_Nfin300_m0.5_M0.9_lri0.008_lrf0.005\n",
      "6.   - Mean: -147.42, Std: 4.23 -- RBM_SPFalse_L8_act<ufunc 'exp'>_gam0.001_gradRMSprop_steps1_epochs1000_minis20_Nini10_Nfin500_m0_M0\n",
      "7.   - Mean: -148.15, Std: 2.26 -- RBM_SPFalse_L8_act<ufunc 'exp'>_gam0.001_gradRMSprop_steps10_epochs300_minis20_Nini10_Nfin500_m0_M0\n",
      "8.   - Mean: -148.26, Std: 5.01 -- RBM_SPFalse_L8_act<ufunc 'exp'>_gam0.001_gradRMSprop_steps20_epochs300_minis20_Nini10_Nfin500_m0_M0\n",
      "9.   - Mean: -148.41, Std: 2.68 -- RBM_SPFalse_L8_act<ufunc 'exp'>_gam0.001_gradRMSprop_steps10_epochs150_minis20_Nini10_Nfin500_m0_M0\n",
      "10.   - Mean: -148.45, Std: 1.60 -- RBM_SPFalse_L8_act<ufunc 'exp'>_gam0.001_gradRMSprop_steps1_epochs100_minis20_Nini500_Nfin500_m0_M0\n",
      "11.   - Mean: -148.66, Std: 4.76 -- RBM_SPFalse_L8_act<ufunc 'exp'>_gam0.001_gradRMSprop_steps1_epochs400_minis20_Nini10_Nfin500_m0_M0\n",
      "13.   - Mean: -150.46, Std: 2.52 -- RBM_SPFalse_L8_act<ufunc 'exp'>_gam0.001_gradRMSprop_steps1_epochs300_minis20_Nini10_Nfin500_m0_M0\n",
      "14.   - Mean: -151.32, Std: 2.39 -- RBM_SPFalse_L8_act<ufunc 'exp'>_gam0.001_gradRMSprop_steps1_epochs150_minis20_Nini10_Nfin500_m0_M0\n",
      "15.   - Mean: -152.05, Std: 3.07 -- RBM_SPFalse_L8_act<ufunc 'exp'>_gam0.001_gradRMSprop_steps1_epochs400_minis500_Nini10_Nfin20_m0\n",
      "16.   - Mean: -156.96, Std: 5.08 -- RBM_SPFalse_L8_act<ufunc 'exp'>_gam0.001_gradRMSprop_steps1_epochs400_minis500_Nini10_Nfin20_m0.5_M0.5\n",
      "17.   - Mean: -159.48, Std: 4.07 -- _20250331_1055_RBM_Potts_SPFalse_L40_act<ufunc 'exp'>_gam0.01_gradRMSprop_steps2_epochs150_minis80_Nini50_Nfin150_m0_M0_lri0.05_lrf0.05\n",
      "18.   - Mean: -162.40, Std: 2.20 -- _20250331_1158_RBM_Potts_SPFalse_L10_act<ufunc 'exp'>_gam0.1_gradRMSprop_steps2_epochs400_minis50_Nini20_Nfin80_m0_M0_lri0.05_lrf0.05\n",
      "19.   - Mean: -163.34, Std: 4.64 -- _20250331_1144_RBM_Potts_SPFalse_L20_act<ufunc 'exp'>_gam0.1_gradRMSprop_steps2_epochs150_minis50_Nini10_Nfin50_m0_M0_lri0.05_lrf0.05\n",
      "20.   - Mean: -163.43, Std: 2.79 -- _20250331_1153_RBM_Potts_SPFalse_L10_act<ufunc 'exp'>_gam0.1_gradRMSprop_steps2_epochs400_minis50_Nini10_Nfin50_m0_M0_lri0.05_lrf0.05\n",
      "21.   - Mean: -163.67, Std: 3.49 -- _20250331_1151_RBM_Potts_SPFalse_L10_act<ufunc 'exp'>_gam0.1_gradRMSprop_steps2_epochs150_minis50_Nini10_Nfin50_m0_M0_lri0.05_lrf0.05\n",
      "22.   - Mean: -167.96, Std: 2.41 -- _20250331_0916_RBM_Potts_SPFalse_L15_act<ufunc 'exp'>_gam0.001_gradRMSprop_steps10_epochs150_minis20_Nini10_Nfin500_m0_M0_lri0.05_lrf0.05\n",
      "23.   - Mean: -169.01, Std: 1.72 -- _20250331_1046_RBM_Potts_SPFalse_L6_act<ufunc 'exp'>_gam0.001_gradAdam_steps2_epochs150_minis30_Nini10_Nfin30_m0_M0_lri0.05_lrf0.05\n",
      "24.   - Mean: -169.01, Std: 1.72 -- _20250331_1047_RBM_Potts_SPFalse_L6_act<ufunc 'exp'>_gam0.001_gradAdam_steps2_epochs150_minis30_Nini10_Nfin30_m0_M0_lri0.05_lrf0.05\n",
      "25.   - Mean: -169.70, Std: 3.79 -- _20250331_1044_RBM_Potts_SPFalse_L6_act<ufunc 'exp'>_gam0.001_gradSGD_steps2_epochs150_minis30_Nini10_Nfin30_m0_M0_lri1.0_lrf0.25\n",
      "26.   - Mean: -170.22, Std: 4.21 -- _20250331_1052_RBM_Potts_SPFalse_L10_act<ufunc 'exp'>_gam0.01_gradRMSprop_steps2_epochs150_minis10_Nini5_Nfin10_m0_M0_lri0.05_lrf0.05\n",
      "27.   - Mean: -170.74, Std: 3.68 -- _20250331_1053_RBM_Potts_SPFalse_L40_act<ufunc 'exp'>_gam0.01_gradRMSprop_steps2_epochs150_minis10_Nini5_Nfin10_m0_M0_lri0.05_lrf0.05\n",
      "28.   - Mean: -171.79, Std: 2.88 -- _20250331_0947_RBM_Potts_SPFalse_L6_act<ufunc 'exp'>_gam0.001_gradRMSprop_steps50_epochs150_minis30_Nini10_Nfin30_m0_M0_lri0.05_lrf0.05\n",
      "29.   - Mean: -171.79, Std: 2.88 -- _20250331_1029_RBM_Potts_SPFalse_L6_act<ufunc 'exp'>_gam0.001_gradRMSprop_steps50_epochs150_minis30_Nini10_Nfin30_m0_M0_lri0.05_lrf0.05\n",
      "30.   - Mean: -171.84, Std: 3.86 -- _20250331_1039_RBM_Potts_SPFalse_L6_act<ufunc 'exp'>_gam0.001_gradSGD_steps50_epochs150_minis30_Nini10_Nfin30_m0_M0_lri1.0_lrf0.25\n",
      "31.   - Mean: -173.05, Std: 2.67 -- _20250331_1034_RBM_Potts_SPFalse_L6_act<ufunc 'exp'>_gam0.001_gradRMSprop_steps50_epochs150_minis30_Nini10_Nfin30_m0_M0_lri0.05_lrf0.05\n",
      "32.   - Mean: -183.30, Std: 9.36 -- RBM_SPFalse_L8_act<ufunc 'exp'>_gam0.001_gradRMSprop_steps1_epochs400_minis500_Nini10_Nfin20_m0.9\n",
      "33.   - Mean: -183.97, Std: 7.53 -- _20250331_1051_RBM_Potts_SPFalse_L10_act<ufunc 'exp'>_gam0.01_gradRMSprop_steps2_epochs150_minis10_Nini5_Nfin10_m0_M0_lri0.05_lrf0.5\n",
      "35.   - Mean: -351.25, Std: 21.95 -- _20250331_1020_RBM_Potts_SPFalse_L6_act<function relu at 0x79dfaf8fd760>_gam0.001_gradRMSprop_steps50_epochs150_minis30_Nini10_Nfin30_m0_M0_lri0.05_lrf0.05\n",
      "36.   - Mean: -683.64, Std: 8.84 -- RBM_SPTrue_L8_act<ufunc 'exp'>_gam0.001_gradRMSprop_steps5_epochs150_minis20_Nini10_Nfin300_m0_M0_lri0.5_lrf0.5\n"
     ]
    },
    {
     "ename": "NameError",
     "evalue": "name 'exp' is not defined",
     "output_type": "error",
     "traceback": [
      "\u001b[0;31m---------------------------------------------------------------------------\u001b[0m",
      "\u001b[0;31mNameError\u001b[0m                                 Traceback (most recent call last)",
      "Cell \u001b[0;32mIn[19], line 29\u001b[0m\n\u001b[1;32m     27\u001b[0m L \u001b[38;5;241m=\u001b[39m \u001b[38;5;241m8\u001b[39m\n\u001b[1;32m     28\u001b[0m SPINS \u001b[38;5;241m=\u001b[39m \u001b[38;5;28;01mFalse\u001b[39;00m\n\u001b[0;32m---> 29\u001b[0m exp\n\u001b[1;32m     30\u001b[0m gamma \u001b[38;5;241m=\u001b[39m \u001b[38;5;241m0.001\u001b[39m\n\u001b[1;32m     31\u001b[0m grad \u001b[38;5;241m=\u001b[39m RMSprop\n",
      "\u001b[0;31mNameError\u001b[0m: name 'exp' is not defined"
     ]
    }
   ],
   "source": [
    "L = 8\n",
    "SPINS = False\n",
    "exp\n",
    "gamma = 0.001\n",
    "grad = RMSprop\n",
    "Nt = 5\n",
    "Nepoch = 150\n",
    "Nmini = 20\n",
    "Nini = 10\n",
    "Nfin = 300\n",
    "m = 0.5\n",
    "M = 0.9\n",
    "lri = 0.008\n",
    "lrf = 0.005"
   ]
  },
  {
   "cell_type": "code",
   "execution_count": null,
   "id": "0200e665-7470-4a4a-82c8-acf1c6ed2414",
   "metadata": {},
   "outputs": [],
   "source": []
  }
 ],
 "metadata": {
  "kernelspec": {
   "display_name": "Python 3 (ipykernel)",
   "language": "python",
   "name": "python3"
  },
  "language_info": {
   "codemirror_mode": {
    "name": "ipython",
    "version": 3
   },
   "file_extension": ".py",
   "mimetype": "text/x-python",
   "name": "python",
   "nbconvert_exporter": "python",
   "pygments_lexer": "ipython3",
   "version": "3.12.2"
  }
 },
 "nbformat": 4,
 "nbformat_minor": 5
}
