{
 "cells": [
  {
   "cell_type": "markdown",
   "metadata": {},
   "source": [
    "# Restricted Boltzmann Machine - MNIST"
   ]
  },
  {
   "cell_type": "markdown",
   "metadata": {},
   "source": [
    "## Imports"
   ]
  },
  {
   "cell_type": "code",
   "execution_count": 1,
   "metadata": {
    "tags": []
   },
   "outputs": [],
   "source": [
    "import sys, datetime\n",
    "import os\n",
    "\n",
    "import numpy as np\n",
    "from numpy import exp,sqrt,log,log10,sign,power,cosh,sinh,tanh,floor\n",
    "rng = np.random.default_rng(12345)\n",
    "np.set_printoptions(precision=4)\n",
    "\n",
    "import matplotlib as mpl\n",
    "%matplotlib inline\n",
    "from matplotlib.ticker import NullFormatter, MaxNLocator\n",
    "mpl.rcParams.update({\"font.size\": 12})\n",
    "from matplotlib.colors import ListedColormap\n",
    "import matplotlib.pyplot as plt\n",
    "\n",
    "from sklearn.datasets import fetch_openml"
   ]
  },
  {
   "cell_type": "markdown",
   "metadata": {
    "jp-MarkdownHeadingCollapsed": true
   },
   "source": [
    "## Load data"
   ]
  },
  {
   "cell_type": "code",
   "execution_count": 2,
   "metadata": {
    "tags": []
   },
   "outputs": [],
   "source": [
    "X_original, Y_original = fetch_openml(\"mnist_784\", version=1, return_X_y=True, as_frame=False)"
   ]
  },
  {
   "cell_type": "markdown",
   "metadata": {
    "jp-MarkdownHeadingCollapsed": true
   },
   "source": [
    "## Parameters"
   ]
  },
  {
   "cell_type": "code",
   "execution_count": 3,
   "metadata": {
    "tags": []
   },
   "outputs": [],
   "source": [
    "################################\n",
    "#    CHOICE OF PARAMETERS      #\n",
    "################################\n",
    "# number of MNIST digits to keep (e.g., Ndigit=3 keeps 0,1,2)\n",
    "Ndigit=3\n",
    "# number of hidden units\n",
    "L = 3 \n",
    "# use (+1,-1) if SPINS, otherwise use bits (1,0), ising spins\n",
    "SPINS=False  \n",
    "# use one-hot encoding in hidden space if POTTS (use only if SPINS=False)\n",
    "POTTS=False\n",
    "\n",
    "dname='DATA/'\n",
    "################################\n",
    "\n",
    "# x_min =0 if bits, x_min=-1 if SPINS\n",
    "if SPINS:\n",
    "    x_min=-1\n",
    "    level_gap=2.\n",
    "else:\n",
    "    x_min=0\n",
    "    level_gap=1.\n",
    "\n",
    "if POTTS:\n",
    "    str_simul=\"RBM_Potts\"\n",
    "    # in one-hot encoding, number of possible hidden states matches L\n",
    "    Nz=L\n",
    "else:\n",
    "    str_simul=\"RBM\"\n",
    "    # number of possible hidden states: 2**L\n",
    "    Nz=2**L\n",
    "    \n",
    "if POTTS and SPINS: \n",
    "    print(\"\\n\\n>>>>>>>> WARNING:  POTTS and SPINS cannot coexist\\n\\n\")"
   ]
  },
  {
   "cell_type": "markdown",
   "metadata": {},
   "source": [
    "## Select data, and digitalize them two levels"
   ]
  },
  {
   "cell_type": "code",
   "execution_count": 4,
   "metadata": {
    "tags": []
   },
   "outputs": [
    {
     "name": "stdout",
     "output_type": "stream",
     "text": [
      "Chosen digits:  ('7', '8', '9')\n",
      "Dataset with 21076 points, each with 784 bits\n",
      "\n"
     ]
    }
   ],
   "source": [
    "\n",
    "\n",
    "def show_MNIST(x, y=[], z=[], Nex=5, S=1.4, side=0, colors=[], save=False):\n",
    "    \"\"\"Show digits\"\"\"\n",
    "    if side==0: side = int(sqrt(x.shape[1]))\n",
    "    if len(y)<1: y=np.full(Nex,\"\")\n",
    "    colors=np.array(colors)\n",
    "    fig, AX = plt.subplots(1,Nex,figsize=(S*Nex,S))\n",
    "    \n",
    "    for i, img in enumerate(x[:Nex].reshape(Nex, side, side)):\n",
    "        if len(colors)==0: newcmp = \"grey\"\n",
    "        else:\n",
    "            col= colors[0] + (colors[1]-colors[0])*(i+1)/(Nex+1)\n",
    "            newcmp = ListedColormap((col,(1,1,1,1)))\n",
    "        ax=AX[i]\n",
    "        ax.imshow(img, cmap=newcmp)\n",
    "        ax.set_xticks([])\n",
    "        ax.set_yticks([])\n",
    "        if len(y)>0: ax.set_title(y[i])\n",
    "        if len(z)>0: ax.set_title(''.join(map(str, z[i])),fontsize=9)\n",
    "    if save: plt.savefig(f\"./FIG/FRAME/RBM_{epoch}_w-a.png\")\n",
    "    plt.show()\n",
    "\n",
    "def MNIST_bit(X,side=28,level=0.5):\n",
    "    NX=len(X)\n",
    "    print(f\"Dataset with {NX} points, each with {len(X[0])} bits\\n\")\n",
    "    if side==14:\n",
    "        X = np.reshape(X,(NX,28,28))\n",
    "        # new value = average over 4 values in a 2x2 square\n",
    "        Xr = 0.25*(X[:,0::2,0::2]+X[:,1::2,0::2]+X[:,0::2,1::2]+X[:,1::2,1::2])\n",
    "        X  = Xr.reshape(NX,side**2)\n",
    "\n",
    "    # binarize data and then convert it to 1/0 or 1/-1\n",
    "    X = np.where(X/255 > level, 1, x_min)\n",
    "    return X.astype(\"int\")\n",
    "\n",
    "\n",
    "# Selecting digits to use\n",
    "list_10_digits = ('0','1','2','3','4','5','6','7','8','9')\n",
    "list_digits = list_10_digits[-Ndigit:] \n",
    "print('Chosen digits: ',list_digits)\n",
    "\n",
    "# keep only X and Y in list_digitssssssssss\n",
    "keep=np.isin(Y_original, list_digits)\n",
    "X_keep,Y=X_original[keep],Y_original[keep]\n",
    "\n",
    "\n",
    "data,label = MNIST_bit(X_keep),Y\n",
    "data,label = data.astype(\"int\"),label.astype(\"int\")\n",
    "\n",
    "# number of data points\n",
    "Nd = len(data)\n",
    "# number of visible units - I.e. total pixels of the image\n",
    "D  = len(data[1])\n"
   ]
  },
  {
   "cell_type": "markdown",
   "metadata": {},
   "source": [
    "## Plotting data"
   ]
  },
  {
   "cell_type": "code",
   "execution_count": 5,
   "metadata": {
    "tags": []
   },
   "outputs": [
    {
     "name": "stdout",
     "output_type": "stream",
     "text": [
      "Extract of MNIST-3 data points, binarized\n"
     ]
    },
    {
     "data": {
      "image/png": "[encoded data removed]",
      "text/plain": [
       "<Figure size 2800x140 with 20 Axes>"
      ]
     },
     "metadata": {},
     "output_type": "display_data"
    },
    {
     "data": {
      "image/png": "[encoded data removed]",
      "text/plain": [
       "<Figure size 2800x140 with 20 Axes>"
      ]
     },
     "metadata": {},
     "output_type": "display_data"
    },
    {
     "data": {
      "image/png": "[encoded data removed]",
      "text/plain": [
       "<Figure size 2800x140 with 20 Axes>"
      ]
     },
     "metadata": {},
     "output_type": "display_data"
    },
    {
     "data": {
      "image/png": "[encoded data removed]",
      "text/plain": [
       "<Figure size 2800x140 with 20 Axes>"
      ]
     },
     "metadata": {},
     "output_type": "display_data"
    }
   ],
   "source": [
    "print(f\"Extract of MNIST-{Ndigit} data points, binarized\")\n",
    "for i in range(4): show_MNIST(data[i*20:],Nex=20)"
   ]
  },
  {
   "cell_type": "markdown",
   "metadata": {},
   "source": [
    "## Contrastive divergence (CD)\n"
   ]
  },
  {
   "cell_type": "code",
   "execution_count": 6,
   "metadata": {
    "tags": []
   },
   "outputs": [],
   "source": [
    "# eq(213) page 97, activation via sigmoid\n",
    "# taking into account energy gap 2 for \"spin\" variables (-1,1)\n",
    "#@jit(parallel=True)\n",
    "def CD_step(v_in,wei,bias,details=False,POTTS=False):\n",
    "    \"\"\"\n",
    "        Generates the state on the other layer: \n",
    "        Field \"H\" ->  activation \"a\" -> probability \"p\" -> Spins/bits v_out\n",
    "\n",
    "        Either (v_in=x, wei=w) or (v_in=z, wei=w.T)\n",
    "\n",
    "        details = True --> returns also probability (p) and activation (a) \n",
    "\n",
    "        POTTS means one-hot encoding (used only in hidden space)\n",
    "    \"\"\"\n",
    "    # local \"field\"\n",
    "    H = np.clip(np.dot(v_in.astype(np.float64), wei) + bias, a_min=-300, a_max=300)\n",
    "    # \"activation\" note, it is a sigmoid\n",
    "    a = np.exp(level_gap*H)\n",
    "    n = np.shape(H)\n",
    "    v_out = np.full(n, x_min, dtype=int) # initially, just a list on -1's or 0's\n",
    "    if POTTS: # RBM with a single hidden unit = 1 (that is, \"one-hot encoding\" with L states)\n",
    "        # p: state probability, normalized to 1 over all units=states\n",
    "        \n",
    "        # Probability of turning on a hidden unit\n",
    "        p = a/np.sum(a)\n",
    "        # F: cumulative probability\n",
    "        F = np.cumsum(p)\n",
    "        # pick a state \"i\" randomly with probability p[i]\n",
    "        r = np.random.rand()\n",
    "        i = 0\n",
    "        while r>F[i]:\n",
    "            i+=1\n",
    "        v_out[i] = 1 # activate a single hidden unit\n",
    "    else: # normal Ising RBM\n",
    "        # p: local probability, normalized to 1 for each hidden unit\n",
    "        p = a / (a + 1.)\n",
    "        # at each position i, activate the 1's with local probability p[i]\n",
    "        v_out[np.random.random_sample(n) < p] = 1 \n",
    "\n",
    "    if details: return (v_out,p,a)\n",
    "    else: return v_out"
   ]
  },
  {
   "cell_type": "markdown",
   "metadata": {
    "jp-MarkdownHeadingCollapsed": true
   },
   "source": [
    "## Plot weights"
   ]
  },
  {
   "cell_type": "code",
   "execution_count": 7,
   "metadata": {
    "tags": []
   },
   "outputs": [],
   "source": [
    "def plot_weights_bias(wE, bE, epoch, L, \n",
    "                      side=0,cols=0,thr=0,s=1.5, \n",
    "                      title=False, save=True,cmap=\"bwr\"):\n",
    "    '''\n",
    "    Plot the weights of the RBM, one plot for each hidden unit.\n",
    "    '''\n",
    "    rows = int(np.ceil(L / cols))\n",
    "    if rows==1: rows=2\n",
    "    w=wE[epoch]\n",
    "    b=bE[epoch]\n",
    "    if side==0: side=int(sqrt(len(w)))\n",
    "    if thr==0: thr=4\n",
    "    plt.clf()\n",
    "    fig, AX = plt.subplots(rows, cols+1, figsize=(s*(1+cols),s*rows))\n",
    "    if title: fig.suptitle(f\"epoch = {epoch}\")\n",
    "    k=1\n",
    "    for i in range(rows):\n",
    "        for j in range(cols):\n",
    "            if rows==1: ax=AX[j+1]\n",
    "            else: ax=AX[i,j+1]\n",
    "            if k<=L:\n",
    "                ax.imshow(w[:,k-1].reshape(side, side), cmap=cmap,vmin=-thr,vmax=thr)\n",
    "                ax.set_xticks([])\n",
    "                ax.set_yticks([])\n",
    "                ax.set_title(f\"hidden {k}\")\n",
    "            else: fig.delaxes(ax)\n",
    "            k+=1\n",
    "        if i>0:  fig.delaxes(AX[i,0])\n",
    "    \n",
    "    ax=AX[0,0];\n",
    "    im=ax.imshow(b.reshape(side, side), cmap=cmap,vmin=-thr,vmax=thr)\n",
    "    ax.set_xticks([])\n",
    "    ax.set_yticks([])\n",
    "    ax.set_title(\"bias\")\n",
    "    # colobar\n",
    "    cbar_ax = fig.add_axes([0.14, 0.15, 0.024, 0.33])\n",
    "    cbar = fig.colorbar(im, cax=cbar_ax)\n",
    "    cbar.ax.tick_params(labelsize=12)\n",
    "    \n",
    "    S=0.3\n",
    "    plt.subplots_adjust(hspace=S)\n",
    "\n",
    "    if save: plt.savefig(f\"./FIG/FRAME/RBM_{epoch}_w-a.png\")\n",
    "\n",
    "    plt.show()\n",
    "    plt.close()\n"
   ]
  },
  {
   "cell_type": "markdown",
   "metadata": {
    "jp-MarkdownHeadingCollapsed": true
   },
   "source": [
    "## Weights initialization \n",
    "The initialization proposed by Hinton for the bias $a_i$ of a visible unit $v_i$ is given by the formula $ a_i = \\log(\\frac{p_i}{1-p_i})$ (Hinton 2012), where $p_i$ is the fraction of training samples in which the unit $i$ is on. \n",
    "When updating the visible states, $p_i$ corresponds to the probability of having a visible state equal to 1, which is used to stochastically pick the value of each visible unit. The probability of activation for a visible neuron is $P(x_i=1|h)= \\sigma(a_i + \\sum_j h_j w_{ij})$ (Hinton 2012) where $\\sigma(x) = \\frac{1}{1+e^{-x}}$ is a sigmoid function. If we set $w_{ij}\\sim 0$, we have $P(x_i=1) \\sim \\sigma(a_i)$, hence $\\sigma(a_i) = p_i$.\n",
    "\n",
    "The biases are set so that the neurons have on average an activation that matches the distribution of the training data (Mehta 2019). This helps stabilize learning and prevents the model from learning too slowly.\n",
    "In a qualitative way, if a pixel is often active in the dataset ($p\\sim 1$), the bias will be higly positive, encouraging the neuron to be active. On the contrary, if a pixel is rarely active ($p_i \\sim 0$), the bias will be highly negative, discouraging activation. If $p_i = 0.5$, the bias will be zero, meaning the neuron has a neutral activation probability.\n",
    "\n",
    "In the function $Hinton$ _ $bias$ _ $init(x)$ , an average on the data is made for each column obtaining the vector xmean.\n",
    "The vector is then 'refined' setting values that are too close to the lower ($-1$ or $0$) and upper (1) state to a higher (first case) or lower value (second case). This is to avoid divergences when computing the logarithms. \n",
    "Finally, the function returns the vector of biases based on the formula above."
   ]
  },
  {
   "cell_type": "code",
   "execution_count": 8,
   "metadata": {
    "tags": []
   },
   "outputs": [],
   "source": [
    "# initial bias of visible units, based on their average value in the dataset\n",
    "# Hinton, \"A Practical Guide to Training Restricted Boltzmann Machines\"\n",
    "def Hinton_bias_init(x):\n",
    "    '''\n",
    "    x ::shape of 'x'(data): (21770,784)\n",
    "    xmean :: does the mean on 'data' for each column -> shape of xmean :(,784)\n",
    "     xmin =0, xmax=1 if SPINS=FALSE, otherwise {-1,+1}\n",
    "    since np.precision is set at 4 -> S = 1e-4\n",
    "    level_gap :: is the difference in values between the max (1) and the min (x_min)\n",
    "    np.clip :: avoid minimum maximum overflow, inf and -inf values.\n",
    "    '''\n",
    "    xmean=np.array(np.mean(x,axis=0))\n",
    "    # remove values at extrema, to avoid divergences in the log's\n",
    "    S = 1e-4\n",
    "    x1,x2 = x_min+S,1-S \n",
    "    xmean[xmean<x1] = x1\n",
    "    xmean[xmean>x2] = x2\n",
    "    return (1/level_gap)*np.clip(log(xmean-x_min) - log(1-xmean),-300,300)\n",
    "    \n",
    "# range of each initial weight\n",
    "# Glorot and Bengio, \"Understanding the difficulty of training deep feedforward neural networks\"\n",
    "sigma = sqrt(4. / float(L + D))"
   ]
  },
  {
   "cell_type": "markdown",
   "metadata": {},
   "source": [
    "## Log-Likelihood"
   ]
  },
  {
   "cell_type": "markdown",
   "metadata": {},
   "source": [
    "\n",
    "We trained the RBM on digits 7,8,9, trying with number of hidden units L $\\in [3,4,5,6,7]$, and for each value we tried different CD steps, $Nt \\in [2,4,6,8,10,12]$.\n",
    "\n",
    "Log-likelihood generally increases during training, what you can see in the resume above are graphs of the LL taken every 5 epochs to spare us computational time and get as soon as possible an overview.\n",
    "\n",
    "What we see is that number of CD steps matters a little bit in LL increase, 2-3 points, and it depends more on the number of hidden units. Best final values are for L=7. It is interesting to see that sometimes LL stalls after a initial steep increase. This could mean that the model fits the data soon, and then keeps wandering in the hyperspace. \n",
    "\n",
    "As Hinton suggests, best results with multidimensional data are reached with more hidden units than the necessary bits to describe the label, but would be optimal to have the same number of hidden units as the length of the data vector. With our computational capabilities this is very difficult to realize, it would mean 20-30 hidden units.\n",
    "\n"
   ]
  },
  {
   "cell_type": "code",
   "execution_count": 10,
   "metadata": {
    "tags": []
   },
   "outputs": [],
   "source": [
    "import numpy as np\n",
    "import itertools as it\n",
    "\n",
    "def generate_configurations(L):\n",
    "    \"\"\"Generate all binary configurations of length L.\"\"\"\n",
    "    return np.array(list(it.product((0,1), repeat=L)), dtype=np.int64)\n",
    "\n",
    "def compute_log_likelihood(partition,data, a, b, w):\n",
    "    log_likelihoods = np.zeros(len(data))  # Preallocate array\n",
    "    all_conf = generate_configurations(L)  # Compute binary configs once\n",
    "\n",
    "    Hz_cache = np.array([H(z) for z in all_conf])  # Precompute H(z)\n",
    "\n",
    "    for i, x in enumerate(data): \n",
    "        Z_x = 0.0\n",
    "        for Hz, z in zip(Hz_cache, all_conf):\n",
    "            E_xz = -np.dot(Hz, x) - np.dot(b, z)\n",
    "            Z_x += np.exp(-E_xz)\n",
    "\n",
    "        log_likelihoods[i] = np.clip(np.log(Z_x) - partition, a_min=-700, a_max=+7000)\n",
    "\n",
    "    return np.mean(log_likelihoods)\n",
    "\n",
    "def H(z):  \n",
    "    return a + np.dot(w, z)  \n",
    "\n",
    "def G(z):  \n",
    "    return np.prod(np.exp(b * z))\n",
    "\n",
    "def partition_function(configurations):\n",
    "    sum_values = 0.0  # Use scalar accumulation\n",
    "\n",
    "    for z in configurations:\n",
    "        Hz = H(z)\n",
    "        produttoria_H = np.prod(1 + np.exp(Hz))\n",
    "        sum_values += G(z) * produttoria_H\n",
    "\n",
    "    return np.log(sum_values)"
   ]
  },
  {
   "cell_type": "code",
   "execution_count": null,
   "metadata": {},
   "outputs": [
    {
     "ename": "FileNotFoundError",
     "evalue": "[Errno 2] No such file or directory: 'img/'",
     "output_type": "error",
     "traceback": [
      "\u001b[0;31m---------------------------------------------------------------------------\u001b[0m",
      "\u001b[0;31mFileNotFoundError\u001b[0m                         Traceback (most recent call last)",
      "Cell \u001b[0;32mIn[11], line 13\u001b[0m\n\u001b[1;32m      8\u001b[0m \u001b[38;5;66;03m# regex\u001b[39;00m\n\u001b[1;32m      9\u001b[0m pattern \u001b[38;5;241m=\u001b[39m re\u001b[38;5;241m.\u001b[39mcompile(\u001b[38;5;124mr\u001b[39m\u001b[38;5;124m\"\u001b[39m\u001b[38;5;124mLLH_epoch150_L(\u001b[39m\u001b[38;5;124m\\\u001b[39m\u001b[38;5;124md)_CD(\u001b[39m\u001b[38;5;124m\\\u001b[39m\u001b[38;5;124md+)_lr0.05.png\u001b[39m\u001b[38;5;124m\"\u001b[39m)\n\u001b[1;32m     11\u001b[0m files \u001b[38;5;241m=\u001b[39m [\n\u001b[1;32m     12\u001b[0m     (f, \u001b[38;5;28mint\u001b[39m(match\u001b[38;5;241m.\u001b[39mgroup(\u001b[38;5;241m1\u001b[39m)), \u001b[38;5;28mint\u001b[39m(match\u001b[38;5;241m.\u001b[39mgroup(\u001b[38;5;241m2\u001b[39m)), os\u001b[38;5;241m.\u001b[39mpath\u001b[38;5;241m.\u001b[39mjoin(folder_path, f))\n\u001b[0;32m---> 13\u001b[0m     \u001b[38;5;28;01mfor\u001b[39;00m f \u001b[38;5;129;01min\u001b[39;00m \u001b[43mos\u001b[49m\u001b[38;5;241;43m.\u001b[39;49m\u001b[43mlistdir\u001b[49m\u001b[43m(\u001b[49m\u001b[43mfolder_path\u001b[49m\u001b[43m)\u001b[49m\n\u001b[1;32m     14\u001b[0m     \u001b[38;5;28;01mif\u001b[39;00m (match \u001b[38;5;241m:=\u001b[39m pattern\u001b[38;5;241m.\u001b[39mmatch(f)) \n\u001b[1;32m     15\u001b[0m ]\n\u001b[1;32m     17\u001b[0m \u001b[38;5;66;03m# Sort by L first, then CD\u001b[39;00m\n\u001b[1;32m     18\u001b[0m files\u001b[38;5;241m.\u001b[39msort(key\u001b[38;5;241m=\u001b[39m\u001b[38;5;28;01mlambda\u001b[39;00m x: (x[\u001b[38;5;241m1\u001b[39m], x[\u001b[38;5;241m2\u001b[39m]))\n",
      "\u001b[0;31mFileNotFoundError\u001b[0m: [Errno 2] No such file or directory: 'img/'"
     ]
    }
   ],
   "source": [
    "import os\n",
    "from IPython.display import display\n",
    "from PIL import Image\n",
    "import matplotlib.pyplot as plt\n",
    "import re\n",
    "\n",
    "folder_path = \"img/\"\n",
    "# regex\n",
    "pattern = re.compile(r\"LLH_epoch150_L(\\d)_CD(\\d+)_lr0.05.png\")\n",
    "\n",
    "files = [\n",
    "    (f, int(match.group(1)), int(match.group(2)), os.path.join(folder_path, f))\n",
    "    for f in os.listdir(folder_path)\n",
    "    if (match := pattern.match(f)) \n",
    "]\n",
    "\n",
    "# Sort by L first, then CD\n",
    "files.sort(key=lambda x: (x[1], x[2]))\n",
    "# Extract only filenames\n",
    "sorted_filenames = [f[0] for f in files]\n",
    "\n",
    "row,cols = 5,6\n",
    "fig,axes = plt.subplots(row,cols, figsize=(15,10), layout='constrained')\n",
    "axes = axes.flatten()\n",
    "for i, img in enumerate(sorted_filenames[:row*cols]):\n",
    "    image = Image.open('img/' +img)\n",
    "    axes[i].imshow(image)\n",
    "    axes[i].axis('off')\n",
    "\n",
    "plt.show()"
   ]
  },
  {
   "cell_type": "markdown",
   "metadata": {},
   "source": [
    "## Setting up RBM for cross validation"
   ]
  },
  {
   "cell_type": "markdown",
   "metadata": {},
   "source": [
    "We use the same code used for training to perform a cross validation. This time we only select the 6 best models from the previous discussion.\n",
    "In the code below are shown the hyperparameters of the last best model (number 5)."
   ]
  },
  {
   "cell_type": "code",
   "execution_count": 12,
   "metadata": {},
   "outputs": [
    {
     "name": "stdout",
     "output_type": "stream",
     "text": [
      "L, hidden units: 5\n",
      "SPINS: False\n",
      "POTTS: False\n",
      "gamma: 0.001\n",
      "GRAD: SGD\n",
      "Nt: 2\n",
      "Epochs: 190\n",
      "Nmini: 45\n",
      "Nini: 10\n",
      "Nfin: 450\n",
      "D=784\tsample size\n",
      "L=5\tnr. z states\n",
      "Gradient descent type: SGD\n",
      "learning rate        = 1.0 --> 0.25\n",
      "gamma=0.001\tregularization\n"
     ]
    }
   ],
   "source": [
    "import time\n",
    "## Hyper parameters::\n",
    "L = 5\n",
    "print(f'L, hidden units: {L}')\n",
    "SPINS = False\n",
    "print(f'SPINS: {SPINS}')\n",
    "POTTS = False\n",
    "print(f'POTTS: {POTTS}')\n",
    "gamma = .001\n",
    "print(f'gamma: {gamma}')\n",
    "GRAD = 'SGD'\n",
    "print(f'GRAD: {GRAD}')\n",
    "Nt = 2\n",
    "print(f'Nt: {Nt}')\n",
    "Nepoch = 190\n",
    "print(f'Epochs: {Nepoch}')\n",
    "Nmini = 45\n",
    "print(f'Nmini: {Nmini}')\n",
    "N_ini = 10\n",
    "print(f'Nini: {N_ini}')\n",
    "N_fin = 450\n",
    "print(f'Nfin: {N_fin}')\n",
    "\n",
    "\n",
    "## setup for gradient choice & gamma\n",
    "if GRAD==\"SGD\":\n",
    "    l_rate_ini,l_rate_fin=1.0,0.25\n",
    "if GRAD==\"RMSprop\":\n",
    "    beta,epsilon=0.9,1e-4\n",
    "    l_rate_ini,l_rate_fin=0.05,0.05\n",
    "    print(\"epsilon=\",epsilon)\n",
    "\n",
    "print(f\"D={D}\\tsample size\\nL={L}\\tnr. z states\")\n",
    "print(\"Gradient descent type:\",GRAD)\n",
    "print(f\"learning rate        = {l_rate_ini} --> {l_rate_fin}\")\n",
    "if gamma!=0: print(f\"gamma={gamma}\\tregularization\")\n",
    "\n",
    "##setup for spin/potts/other thing\n",
    "if SPINS:\n",
    "    x_min=-1\n",
    "    level_gap=2.\n",
    "else:\n",
    "    x_min=0\n",
    "    level_gap=1.\n",
    "\n",
    "if POTTS:\n",
    "    str_simul=\"RBM_Potts\"\n",
    "    Nz=L\n",
    "else:\n",
    "    str_simul=\"RBM\"\n",
    "    Nz=2**L\n",
    "    \n",
    "if POTTS and SPINS: \n",
    "    print(\"\\n\\n>>>>>>>> WARNING:  POTTS and SPINS cannot coexist\\n\\n\")\n",
    "\n",
    "stringa = f'#L SPIN POTTS gamma Nt Nepoch Nmini Nini Nfin Grad'\n",
    "stringa2 = [L, SPINS, POTTS, gamma, Nt, Nepoch, Nmini, N_ini, N_fin, GRAD]\n",
    "with open(f'llh{int((code := time.time()))}.txt', 'a') as add:\n",
    "    print(stringa, file=add)\n",
    "    print(stringa2, file=add)\n",
    "    "
   ]
  },
  {
   "cell_type": "markdown",
   "metadata": {},
   "source": [
    "## CV Run\n",
    "\n",
    "We perform the cross validation by running the learning algorithm using different random seeds. "
   ]
  },
  {
   "cell_type": "code",
   "execution_count": null,
   "metadata": {},
   "outputs": [
    {
     "name": "stdout",
     "output_type": "stream",
     "text": [
      "Nepoch=190\n",
      "Nmini=45\n",
      "Starting the training\n",
      "END of learning phase\n"
     ]
    }
   ],
   "source": [
    "for seed in [1, 12, 123, 1234, 12345, 123457]:\n",
    "    np.random.seed(seed)\n",
    "    \n",
    "    # initial weights from a Normal distr. (see literature, e.g. page 98 of Mehta's review)\n",
    "    w = sigma * np.random.randn(D,L)\n",
    "    # using Hinton initialization of visible biases\n",
    "    a = Hinton_bias_init(data)\n",
    "    # hidden biases initialized to zero\n",
    "    b = np.zeros(L)\n",
    "    print(f\"Nepoch={Nepoch}\\nNmini={Nmini}\")\n",
    "    # recording history of weights (\"E\" means epoch)\n",
    "    wE,aE,bE=np.zeros((Nepoch+1,D,L)),np.zeros((Nepoch+1,D)),np.zeros((Nepoch+1,L)) \n",
    "    wE[0],aE[0],bE[0]=np.copy(w),np.copy(a),np.copy(b)\n",
    "    gwE,gw2E,gwE_d,gwE_m = np.zeros_like(wE),np.zeros_like(wE),np.zeros_like(wE),np.zeros_like(wE)\n",
    "    gaE,ga2E,gaE_d,gaE_m = np.zeros_like(aE),np.zeros_like(aE),np.zeros_like(aE),np.zeros_like(aE)\n",
    "    gbE,gb2E,gbE_d,gbE_m = np.zeros_like(bE),np.zeros_like(bE),np.zeros_like(bE),np.zeros_like(bE)\n",
    "    miniE = np.zeros(Nepoch+1)\n",
    "    pzE=np.zeros((Nepoch+1,Nz))\n",
    "    \n",
    "    if GRAD==\"RMSprop\": \n",
    "        gw2,ga2,gb2 = np.zeros_like(w),np.zeros_like(a),np.zeros_like(b)\n",
    "    \n",
    "    indices=np.arange(Nd).astype(\"int\")\n",
    "    #plot_weights_bias(wE, aE, 0, L, cols=L//2, save=False)\n",
    "    \n",
    "    # for the plot with panels\n",
    "    Ncols=min(8,max(2,L//2))\n",
    "    \n",
    "    if POTTS: print(\"Starting the training, POTTS=True\")\n",
    "    else: print(\"Starting the training\")\n",
    "    #for L in np.arange(4,9,1):\n",
    "    \n",
    "    configurations = generate_configurations(L)\n",
    "    log_likelihoods = []\n",
    "    lista_epoch_grafico = []\n",
    "    # Note: here an epoch does not analyze the whole dataset\n",
    "    for epoch in range(1,1+Nepoch):\n",
    "        # q maps epochs to interval [0,1]\n",
    "        q = (epoch-1.)/(Nepoch-1.) \n",
    "        # N, size of the mini batch\n",
    "        # stays closer to N_ini for some time, then it progressively accelerates toward N_fin\n",
    "        N = int(N_ini + (N_fin-N_ini)*(q**2))\n",
    "        #  l_rate interpolates between initial and final value\n",
    "        l_rate = l_rate_ini + (l_rate_fin-l_rate_ini)*q\n",
    "    \n",
    "        for mini in range(Nmini):\n",
    "            # initializitation for averages in minibatch\n",
    "            # visible variables \"v\" --> \"x\"\n",
    "            #  hidden variables \"h\" --> \"z\"\n",
    "            x_data, x_model = np.zeros(D),np.zeros(D)\n",
    "            z_data, z_model = np.zeros(L),np.zeros(L)\n",
    "            xz_data,xz_model= np.zeros((D,L)),np.zeros((D,L))\n",
    "            pz = np.zeros(L)\n",
    "    \n",
    "            # Minibatch of size N: points randomply picked (without repetition) from data\n",
    "            selected = np.random.choice(indices,N,replace=False)\n",
    "           # if epoch==1 and mini<=3: print(selected)\n",
    "    \n",
    "            for k in range(N):\n",
    "                ###################################\n",
    "                x0 = data[selected[k]]\n",
    "                # positive CD phase: generating z from x[k]\n",
    "                z = CD_step(x0,w,b,POTTS=POTTS)\n",
    "                x_data  += x0\n",
    "                z_data  += z\n",
    "                xz_data += np.outer(x0,z)\n",
    "                # fantasy\n",
    "                zf=np.copy(z)\n",
    "                # Contrastive divergence with Nt steps\n",
    "                for t in range(Nt):\n",
    "                    # negative CD pzase: generating fantasy xf from fantasy zf\n",
    "                    xf = CD_step(zf,w.T,a)\n",
    "                    # positive CD phase: generating fantasy zf from fantasy xf \n",
    "                    zf = CD_step(xf,w,b,POTTS=POTTS)\n",
    "                x_model += xf\n",
    "                z_model += zf\n",
    "                xz_model+= np.outer(xf,zf)\n",
    "                # recording probability of encoding in z-space, if POTTS\n",
    "                if POTTS: pz[zf]+=1\n",
    "                ###################################\n",
    "    \n",
    "            # gradient of the likelihood: follow it along its positive direction\n",
    "            gw_d,gw_m = xz_data/N, xz_model/N\n",
    "            ga_d,ga_m = x_data/N, x_model/N\n",
    "            gb_d,gb_m = z_data/N, z_model/N\n",
    "            gw=np.copy(gw_d - gw_m)\n",
    "            ga=np.copy(ga_d - ga_m)\n",
    "            gb=np.copy(gb_d - gb_m)\n",
    "    \n",
    "            # gradient ascent step\n",
    "            if GRAD==\"RMSprop\":\n",
    "                # RMSprop gradient ascent\n",
    "                gw2 = beta*gw2+(1-beta)*np.square(gw)\n",
    "                ga2 = beta*ga2+(1-beta)*np.square(ga)\n",
    "                gb2 = beta*gb2+(1-beta)*np.square(gb)\n",
    "                w += l_rate*gw/sqrt(epsilon+gw2)\n",
    "                a += l_rate*ga/sqrt(epsilon+ga2)\n",
    "                b += l_rate*gb/sqrt(epsilon+gb2)\n",
    "            else: \n",
    "                # defaulting to the vanilla stochastic gradient ascent (SGD)\n",
    "                w += l_rate*gw\n",
    "                a += l_rate*ga\n",
    "                b += l_rate*gb\n",
    "            # regularization (LASSO)\n",
    "            if gamma>0.:\n",
    "                w -= (gamma*l_rate)*sign(w)\n",
    "                a -= (gamma*l_rate)*sign(a)\n",
    "                b -= (gamma*l_rate)*sign(b)\n",
    "    \n",
    "        wE[epoch],gwE[epoch],gwE_d[epoch],gwE_m[epoch]=np.copy(w),np.copy(gw),np.copy(gw_d),np.copy(gw_m)\n",
    "        aE[epoch],gaE[epoch],gaE_d[epoch],gaE_m[epoch]=np.copy(a),np.copy(ga),np.copy(ga_d),np.copy(ga_m)\n",
    "        bE[epoch],gbE[epoch],gbE_d[epoch],gbE_m[epoch]=np.copy(b),np.copy(gb),np.copy(gb_d),np.copy(gb_m)\n",
    "        miniE[epoch]=N\n",
    "        if POTTS: pzE[epoch] = pz/np.sum(pz)\n",
    "        #print(\"epoch\",epoch,\"/\",Nepoch,\" Nt:\",Nt,\" N:\",N,\" L:\",L,\n",
    "             # \" rate:\",l_rate,\" gam:\",gamma,\"SPINS=\",SPINS,\"POTTS=\",POTTS)\n",
    "    \n",
    "        #if Nepoch<=100 or epoch%20==0 or epoch==Nepoch:\n",
    "            #plot_weights_bias(wE, aE, epoch, L, cols=Ncols, save=False)\n",
    "    \n",
    "        if epoch==(Nepoch):\n",
    "            partition = partition_function(configurations)\n",
    "            log_likelihood = compute_log_likelihood(partition,data, a=a, b=b, w=w,)\n",
    "            #with open(f'llh{int(code)}.txt', 'a') as add:\n",
    "                #print(log_likelihood, file=add)\n",
    "        str_time_completion = datetime.datetime.now().strftime(\"_%Y%m%d_%H%M\")\n",
    "    print(\"END of learning phase\")"
   ]
  },
  {
   "cell_type": "markdown",
   "metadata": {},
   "source": [
    "## Model scores\n",
    "We plot the scores related to the 6 best models that we chose. We see that we get for all models approximately the same error bars and the same result.\n",
    "We also note that five out of six models have as hyperparameter for the optimizer the value 'RMSprop', which indicates that maybe this value could be better than 'SGD'.\n"
   ]
  },
  {
   "cell_type": "code",
   "execution_count": 15,
   "metadata": {},
   "outputs": [
    {
     "name": "stdout",
     "output_type": "stream",
     "text": [
      "['llh1742571832.txt']\n"
     ]
    },
    {
     "name": "stderr",
     "output_type": "stream",
     "text": [
      "/tmp/ipykernel_7149/1242055569.py:6: UserWarning: loadtxt: input contained no data: \"llh1742571832.txt\"\n",
      "  llh_list.append(np.loadtxt(file.name, skiprows=2))\n"
     ]
    }
   ],
   "source": [
    "llh_list = []\n",
    "file_names = []\n",
    "with os.scandir() as files:\n",
    "    for file in files:\n",
    "        if file.name.startswith('llh') and file.name.endswith('.txt'):\n",
    "            llh_list.append(np.loadtxt(file.name, skiprows=2))\n",
    "            file_names.append(file.name)\n",
    "print(file_names)\n",
    "\n"
   ]
  },
  {
   "cell_type": "markdown",
   "metadata": {},
   "source": [
    "|Model|L|SPIN|POTTS|gamma|Nt|Nepoch|Nmini|Nini|Nfin|Grad|\n",
    "|---|---|---|---|---|---|---|---|---|---|---|\n",
    "|0|7|False|False|0.001|4|300|30|5|100|RMSprop|\n",
    "|1|10| False| False|0.001| 1| 200| 10| 5|325| RMSprop|\n",
    "|2|5|False|False|0.001|2|190|45|10|450|SGD|\n",
    "|3|10|False|True|0.01|1|200|10|5|10|RMSprop|\n",
    "|4|10| False| False|0.01| 1| 200| 10| 5| 10| RMSprop|\n",
    "|5|10|False|False|0.001|7|350|10|5|325|RMSprop|\n"
   ]
  },
  {
   "cell_type": "code",
   "execution_count": 16,
   "metadata": {},
   "outputs": [
    {
     "ename": "ValueError",
     "evalue": "'x' and 'y' must have the same size",
     "output_type": "error",
     "traceback": [
      "\u001b[0;31m---------------------------------------------------------------------------\u001b[0m",
      "\u001b[0;31mValueError\u001b[0m                                Traceback (most recent call last)",
      "Cell \u001b[0;32mIn[16], line 2\u001b[0m\n\u001b[1;32m      1\u001b[0m fig, ax \u001b[38;5;241m=\u001b[39m plt\u001b[38;5;241m.\u001b[39msubplots(layout\u001b[38;5;241m=\u001b[39m\u001b[38;5;124m'\u001b[39m\u001b[38;5;124mconstrained\u001b[39m\u001b[38;5;124m'\u001b[39m)\n\u001b[0;32m----> 2\u001b[0m \u001b[43max\u001b[49m\u001b[38;5;241;43m.\u001b[39;49m\u001b[43merrorbar\u001b[49m\u001b[43m(\u001b[49m\u001b[38;5;28;43mrange\u001b[39;49m\u001b[43m(\u001b[49m\u001b[38;5;28;43mlen\u001b[39;49m\u001b[43m(\u001b[49m\u001b[43mllh_list\u001b[49m\u001b[43m)\u001b[49m\u001b[43m)\u001b[49m\u001b[43m,\u001b[49m\u001b[43m \u001b[49m\u001b[43mnp\u001b[49m\u001b[38;5;241;43m.\u001b[39;49m\u001b[43mmean\u001b[49m\u001b[43m(\u001b[49m\u001b[43mllh_list\u001b[49m\u001b[43m,\u001b[49m\u001b[43m \u001b[49m\u001b[43maxis\u001b[49m\u001b[38;5;241;43m=\u001b[39;49m\u001b[38;5;241;43m0\u001b[39;49m\u001b[43m)\u001b[49m\u001b[43m,\u001b[49m\u001b[43m \u001b[49m\u001b[43myerr\u001b[49m\u001b[38;5;241;43m=\u001b[39;49m\u001b[43mnp\u001b[49m\u001b[38;5;241;43m.\u001b[39;49m\u001b[43mstd\u001b[49m\u001b[43m(\u001b[49m\u001b[43mllh_list\u001b[49m\u001b[43m,\u001b[49m\u001b[43m \u001b[49m\u001b[43maxis\u001b[49m\u001b[38;5;241;43m=\u001b[39;49m\u001b[38;5;241;43m0\u001b[39;49m\u001b[43m)\u001b[49m\u001b[43m,\u001b[49m\u001b[43m \u001b[49m\u001b[43mfmt\u001b[49m\u001b[38;5;241;43m=\u001b[39;49m\u001b[38;5;124;43m'\u001b[39;49m\u001b[38;5;124;43mok\u001b[39;49m\u001b[38;5;124;43m'\u001b[39;49m\u001b[43m,\u001b[49m\u001b[43m \u001b[49m\u001b[43mlw\u001b[49m\u001b[38;5;241;43m=\u001b[39;49m\u001b[38;5;241;43m1\u001b[39;49m\u001b[43m,\u001b[49m\u001b[43m \u001b[49m\u001b[43mcapsize\u001b[49m\u001b[38;5;241;43m=\u001b[39;49m\u001b[38;5;241;43m2\u001b[39;49m\u001b[43m)\u001b[49m\n\u001b[1;32m      3\u001b[0m plt\u001b[38;5;241m.\u001b[39mshow()\n",
      "File \u001b[0;32m~/src/ambiente/lib/python3.12/site-packages/matplotlib/__init__.py:1473\u001b[0m, in \u001b[0;36m_preprocess_data.<locals>.inner\u001b[0;34m(ax, data, *args, **kwargs)\u001b[0m\n\u001b[1;32m   1470\u001b[0m \u001b[38;5;129m@functools\u001b[39m\u001b[38;5;241m.\u001b[39mwraps(func)\n\u001b[1;32m   1471\u001b[0m \u001b[38;5;28;01mdef\u001b[39;00m \u001b[38;5;21minner\u001b[39m(ax, \u001b[38;5;241m*\u001b[39margs, data\u001b[38;5;241m=\u001b[39m\u001b[38;5;28;01mNone\u001b[39;00m, \u001b[38;5;241m*\u001b[39m\u001b[38;5;241m*\u001b[39mkwargs):\n\u001b[1;32m   1472\u001b[0m     \u001b[38;5;28;01mif\u001b[39;00m data \u001b[38;5;129;01mis\u001b[39;00m \u001b[38;5;28;01mNone\u001b[39;00m:\n\u001b[0;32m-> 1473\u001b[0m         \u001b[38;5;28;01mreturn\u001b[39;00m \u001b[43mfunc\u001b[49m\u001b[43m(\u001b[49m\n\u001b[1;32m   1474\u001b[0m \u001b[43m            \u001b[49m\u001b[43max\u001b[49m\u001b[43m,\u001b[49m\n\u001b[1;32m   1475\u001b[0m \u001b[43m            \u001b[49m\u001b[38;5;241;43m*\u001b[39;49m\u001b[38;5;28;43mmap\u001b[39;49m\u001b[43m(\u001b[49m\u001b[43msanitize_sequence\u001b[49m\u001b[43m,\u001b[49m\u001b[43m \u001b[49m\u001b[43margs\u001b[49m\u001b[43m)\u001b[49m\u001b[43m,\u001b[49m\n\u001b[1;32m   1476\u001b[0m \u001b[43m            \u001b[49m\u001b[38;5;241;43m*\u001b[39;49m\u001b[38;5;241;43m*\u001b[39;49m\u001b[43m{\u001b[49m\u001b[43mk\u001b[49m\u001b[43m:\u001b[49m\u001b[43m \u001b[49m\u001b[43msanitize_sequence\u001b[49m\u001b[43m(\u001b[49m\u001b[43mv\u001b[49m\u001b[43m)\u001b[49m\u001b[43m \u001b[49m\u001b[38;5;28;43;01mfor\u001b[39;49;00m\u001b[43m \u001b[49m\u001b[43mk\u001b[49m\u001b[43m,\u001b[49m\u001b[43m \u001b[49m\u001b[43mv\u001b[49m\u001b[43m \u001b[49m\u001b[38;5;129;43;01min\u001b[39;49;00m\u001b[43m \u001b[49m\u001b[43mkwargs\u001b[49m\u001b[38;5;241;43m.\u001b[39;49m\u001b[43mitems\u001b[49m\u001b[43m(\u001b[49m\u001b[43m)\u001b[49m\u001b[43m}\u001b[49m\u001b[43m)\u001b[49m\n\u001b[1;32m   1478\u001b[0m     bound \u001b[38;5;241m=\u001b[39m new_sig\u001b[38;5;241m.\u001b[39mbind(ax, \u001b[38;5;241m*\u001b[39margs, \u001b[38;5;241m*\u001b[39m\u001b[38;5;241m*\u001b[39mkwargs)\n\u001b[1;32m   1479\u001b[0m     auto_label \u001b[38;5;241m=\u001b[39m (bound\u001b[38;5;241m.\u001b[39marguments\u001b[38;5;241m.\u001b[39mget(label_namer)\n\u001b[1;32m   1480\u001b[0m                   \u001b[38;5;129;01mor\u001b[39;00m bound\u001b[38;5;241m.\u001b[39mkwargs\u001b[38;5;241m.\u001b[39mget(label_namer))\n",
      "File \u001b[0;32m~/src/ambiente/lib/python3.12/site-packages/matplotlib/axes/_axes.py:3633\u001b[0m, in \u001b[0;36mAxes.errorbar\u001b[0;34m(self, x, y, yerr, xerr, fmt, ecolor, elinewidth, capsize, barsabove, lolims, uplims, xlolims, xuplims, errorevery, capthick, **kwargs)\u001b[0m\n\u001b[1;32m   3631\u001b[0m x, y \u001b[38;5;241m=\u001b[39m np\u001b[38;5;241m.\u001b[39matleast_1d(x, y)  \u001b[38;5;66;03m# Make sure all the args are iterable.\u001b[39;00m\n\u001b[1;32m   3632\u001b[0m \u001b[38;5;28;01mif\u001b[39;00m \u001b[38;5;28mlen\u001b[39m(x) \u001b[38;5;241m!=\u001b[39m \u001b[38;5;28mlen\u001b[39m(y):\n\u001b[0;32m-> 3633\u001b[0m     \u001b[38;5;28;01mraise\u001b[39;00m \u001b[38;5;167;01mValueError\u001b[39;00m(\u001b[38;5;124m\"\u001b[39m\u001b[38;5;124m'\u001b[39m\u001b[38;5;124mx\u001b[39m\u001b[38;5;124m'\u001b[39m\u001b[38;5;124m and \u001b[39m\u001b[38;5;124m'\u001b[39m\u001b[38;5;124my\u001b[39m\u001b[38;5;124m'\u001b[39m\u001b[38;5;124m must have the same size\u001b[39m\u001b[38;5;124m\"\u001b[39m)\n\u001b[1;32m   3635\u001b[0m everymask \u001b[38;5;241m=\u001b[39m \u001b[38;5;28mself\u001b[39m\u001b[38;5;241m.\u001b[39m_errorevery_to_mask(x, errorevery)\n\u001b[1;32m   3637\u001b[0m label \u001b[38;5;241m=\u001b[39m kwargs\u001b[38;5;241m.\u001b[39mpop(\u001b[38;5;124m\"\u001b[39m\u001b[38;5;124mlabel\u001b[39m\u001b[38;5;124m\"\u001b[39m, \u001b[38;5;28;01mNone\u001b[39;00m)\n",
      "\u001b[0;31mValueError\u001b[0m: 'x' and 'y' must have the same size"
     ]
    },
    {
     "data": {
      "image/png": "[encoded data removed]",
      "text/plain": [
       "<Figure size 640x480 with 1 Axes>"
      ]
     },
     "metadata": {},
     "output_type": "display_data"
    }
   ],
   "source": [
    "fig, ax = plt.subplots(layout='constrained')\n",
    "ax.errorbar(range(len(llh_list)), np.mean(llh_list, axis=0), yerr=np.std(llh_list, axis=0), fmt='ok', lw=1, capsize=2)\n",
    "plt.show()"
   ]
  },
  {
   "cell_type": "markdown",
   "metadata": {},
   "source": [
    "## Test generative power of the trained RBM\n",
    "\n",
    "DA RUNNARE"
   ]
  },
  {
   "cell_type": "code",
   "execution_count": 26,
   "metadata": {
    "tags": []
   },
   "outputs": [
    {
     "ename": "NameError",
     "evalue": "name 'wE' is not defined",
     "output_type": "error",
     "traceback": [
      "\u001b[0;31m---------------------------------------------------------------------------\u001b[0m",
      "\u001b[0;31mNameError\u001b[0m                                 Traceback (most recent call last)",
      "Cell \u001b[0;32mIn[26], line 15\u001b[0m\n\u001b[1;32m     13\u001b[0m t1\u001b[38;5;241m=\u001b[39mt\u001b[38;5;241m+\u001b[39m\u001b[38;5;241m1\u001b[39m\n\u001b[1;32m     14\u001b[0m \u001b[38;5;66;03m# positive CD phase: generating fantasy zf from fantasy xf\u001b[39;00m\n\u001b[0;32m---> 15\u001b[0m zf \u001b[38;5;241m=\u001b[39m CD_step(xf,\u001b[38;5;241m1\u001b[39m\u001b[38;5;241m*\u001b[39mwE[ee],\u001b[38;5;241m1\u001b[39m\u001b[38;5;241m*\u001b[39mbE[ee],POTTS\u001b[38;5;241m=\u001b[39mPOTTS)\n\u001b[1;32m     16\u001b[0m traj_z[t] \u001b[38;5;241m=\u001b[39m np\u001b[38;5;241m.\u001b[39mcopy(zf)\n\u001b[1;32m     17\u001b[0m \u001b[38;5;66;03m# negative CD pzase: generating fantasy xf from fantasy zf\u001b[39;00m\n",
      "\u001b[0;31mNameError\u001b[0m: name 'wE' is not defined"
     ]
    }
   ],
   "source": [
    "ee=-1 ##\n",
    "NN=200\n",
    "traj_x,traj_z = np.zeros((NN+2,D)), np.zeros((NN+2,L))\n",
    "xf=np.copy(data[np.random.randint(Nd)])\n",
    "traj_x[0]=np.copy(xf)\n",
    "\n",
    "# AF: multiply weights and biases by a number >1 to achieve a more deterministic behavior,\n",
    "# equivalent to lower the temperature in a Boltzmann weight -> select lowest energies\n",
    "# Note: here, this is done in the negative CD step only\n",
    "AF=1.\n",
    "\n",
    "for t in range(NN):\n",
    "    t1=t+1\n",
    "    # positive CD phase: generating fantasy zf from fantasy xf\n",
    "    zf = CD_step(xf,1*wE[ee],1*bE[ee],POTTS=POTTS)\n",
    "    traj_z[t] = np.copy(zf)\n",
    "    # negative CD pzase: generating fantasy xf from fantasy zf\n",
    "    xf = CD_step(zf,AF*wE[ee].T,AF*aE[ee])\n",
    "    traj_x[t1] = np.copy(xf)\n",
    "\n",
    "\n",
    "plot_weights_bias(wE, aE, Nepoch, L, cols=Ncols, save=False)\n",
    "\n",
    "col0,col1,col2,col3,col4=(0.8,0,0,1),(1,0.6,0,1),(0,.7,0,1),(0.2,0.2,1,1),(1,0,1,1)\n",
    "show_MNIST(traj_x[0:],Nex=10,colors=(col0,col1))\n",
    "show_MNIST(traj_x[10:],Nex=10,colors=(col1,col2))\n",
    "show_MNIST(traj_x[20:],Nex=10,colors=(col2,col3))\n",
    "show_MNIST(traj_x[40:],Nex=10,colors=(col3,col4))\n",
    "print(\"L:\",L,\"    amplification of weights:\",AF)"
   ]
  }
 ],
 "metadata": {
  "kernelspec": {
   "display_name": "ambiente",
   "language": "python",
   "name": "ambiente"
  },
  "language_info": {
   "codemirror_mode": {
    "name": "ipython",
    "version": 3
   },
   "file_extension": ".py",
   "mimetype": "text/x-python",
   "name": "python",
   "nbconvert_exporter": "python",
   "pygments_lexer": "ipython3",
   "version": "3.12.3"
  }
 },
 "nbformat": 4,
 "nbformat_minor": 4
}
