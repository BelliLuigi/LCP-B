{
 "cells": [
  {
   "cell_type": "code",
   "execution_count": null,
   "id": "13e04626-da96-4393-834a-d6977769a917",
   "metadata": {},
   "outputs": [],
   "source": [
    "def log_likelihood(x,z, a=aE,b=bE,w=wE):\n",
    "\n",
    "    \n",
    "    if SPINS=False:\n",
    "        "
   ]
  },
  {
   "cell_type": "code",
   "execution_count": null,
   "id": "37752167-7283-4968-993c-826ef06a181f",
   "metadata": {},
   "outputs": [],
   "source": [
    "import numpy as np\n",
    "\n",
    "def compute_log_likelihood(data = data, a=aE, b=bE, W=wE):\n",
    "    \"\"\"\n",
    "    Computes the log-likelihood for an RBM with binary {0,1} visible and hidden units.\n",
    "\n",
    "    Parameters:\n",
    "    x_data : ndarray, shape (Nd, D)\n",
    "        Dataset with Nd samples and D visible units.\n",
    "    a : ndarray, shape (D,)\n",
    "        Bias terms for visible units.\n",
    "    b : ndarray, shape (L,)\n",
    "        Bias terms for hidden units.\n",
    "    W : ndarray, shape (D, L)\n",
    "        Weight matrix.\n",
    "    Returns:\n",
    "    float\n",
    "        The average log-likelihood over the dataset.\n",
    "    \"\"\"\n",
    "    \n",
    "    log_likelihoods = []\n",
    "    \n",
    "    for x in x_data:\n",
    "        # Compute Hi(z) = ai + sum_mu (wiμ * zμ)\n",
    "        def H(z):\n",
    "            return a + np.dot(W, z)  # Shape (D,)\n",
    "        \n",
    "        # Compute G(z) = prod_mu exp(b_mu * z_mu)\n",
    "        def G(z):\n",
    "            return np.prod(np.exp(b * z))  # Scalar\n",
    "        \n",
    "        # Enumerate over all 2^L hidden configurations\n",
    "        Z_x = 0  # Sum over exp(-E(x, z))\n",
    "        Z_total = 0  # Sum over exp(-E(x', z))\n",
    "        \n",
    "        for z_int in range(2**L):\n",
    "            # Convert integer to binary vector (hidden state)\n",
    "            z = np.array([int(b) for b in format(z_int, f'0{L}b')])\n",
    "            \n",
    "            # Compute Z(z)\n",
    "            Hz = H(z)  # Shape (D,)\n",
    "            Z_z = G(z) * np.prod(1 + np.exp(Hz))\n",
    "            \n",
    "            # Compute Boltzmann weights\n",
    "            E_xz = -np.sum(a * x) - np.sum(b * z) - np.sum(x * np.dot(W, z))\n",
    "            Z_x += np.exp(-E_xz)\n",
    "            \n",
    "            # Sum over all possible x' (partition function)\n",
    "            Z_total += Z_z\n",
    "        \n",
    "        log_likelihoods.append(np.log(Z_x) - np.log(Z_total))\n",
    "    \n",
    "    return np.mean(log_likelihoods)  # Average over dataset\n",
    "\n"
   ]
  }
 ],
 "metadata": {
  "kernelspec": {
   "display_name": "Python 3 (ipykernel)",
   "language": "python",
   "name": "python3"
  },
  "language_info": {
   "codemirror_mode": {
    "name": "ipython",
    "version": 3
   },
   "file_extension": ".py",
   "mimetype": "text/x-python",
   "name": "python",
   "nbconvert_exporter": "python",
   "pygments_lexer": "ipython3",
   "version": "3.12.2"
  }
 },
 "nbformat": 4,
 "nbformat_minor": 5
}
