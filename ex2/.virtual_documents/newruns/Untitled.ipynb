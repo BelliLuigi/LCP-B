import os
import glob
import numpy as np

# Set your folder path here
folder_path = "./llh"  # change this to the folder where your txt files are stored

# List to store file metrics: (filename, mean, std, score)
file_data = []

# Get all .txt files in the folder
txt_files = glob.glob(os.path.join(folder_path, '*'))
for filepath in txt_files:
    file = np.loadtxt(filepath)
    mean_val = np.mean(file)
    std_val = np.std(file)
    file_data.append((os.path.basename(filepath), mean_val, std_val))
# Rank files by score in descending order (highest score first)
ranked_files = sorted(file_data, key=lambda x: x[1], reverse=True)

print("File Rankings (best score first):")
for rank, (filename, mean_val, std_val) in enumerate(ranked_files, start=1):
    if std_val == 0.00:
        continue
    print(f"{rank}.   - Mean: {mean_val:.2f}, Std: {std_val:.2f} -- {filename}")


L = 8
SPINS = False
exp
gamma = 0.001
grad = RMSprop
Nt = 5
Nepoch = 150
Nmini = 20
Nini = 10
Nfin = 300
m = 0.5
M = 0.9
lri = 0.008
lrf = 0.005



