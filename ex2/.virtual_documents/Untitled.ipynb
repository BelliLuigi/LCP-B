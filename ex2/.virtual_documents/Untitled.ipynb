# Import necessary libraries
from sklearn.neural_network import BernoulliRBM
from sklearn.linear_model import LogisticRegression
from sklearn.pipeline import Pipeline
from sklearn.datasets import load_digits
from sklearn.preprocessing import minmax_scale, OneHotEncoder
from sklearn.model_selection import train_test_split
from sklearn.metrics import classification_report

# Load the MNIST dataset
digits = load_digits()

# Digits image
X = digits.data
# Digits
Y = digits.target

# Min-max scaling
X_scaled = minmax_scale(X, feature_range=(0, 1))

# Split the data into training and testing sets
X_train, X_test, y_train, y_test = train_test_split(X_scaled, Y, 
													test_size=0.2, random_state=42)

Epoch = 150
# Create an RBM model
rbm = BernoulliRBM(n_components=8, learning_rate=0.02, n_iter=Epoch, 
				random_state=42, verbose=True)

# Create a classifier
classifier = LogisticRegression(max_iter=500)

# Create a pipeline combining RBM and classifier
pipeline = Pipeline(steps=[('rbm', rbm), ('classifier', classifier)])

# Train the model
pipeline.fit(X_train, y_train)

# Make predictions on the test set
y_pred = pipeline.predict(X_test)

# Evaluate the model
print('\nClassification Report :\n',classification_report(y_test, y_pred))




