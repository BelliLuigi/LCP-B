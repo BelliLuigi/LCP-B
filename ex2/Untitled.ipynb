{
 "cells": [
  {
   "cell_type": "code",
   "execution_count": null,
   "id": "7f0db68a-dad0-4cdc-9442-8664db4e6511",
   "metadata": {},
   "outputs": [],
   "source": [
    "def H_i(a,w,z,i):\n",
    "    # i visible dimensions\n",
    "    # w_ij, so i want to take rows i think\n",
    "    return a[i] + np.dot(w[i,:], z)"
   ]
  },
  {
   "cell_type": "code",
   "execution_count": 2,
   "id": "6c1b2d78-c260-4283-b0aa-eb23978d50e9",
   "metadata": {
    "tags": []
   },
   "outputs": [],
   "source": [
    "import numpy.random as npr\n",
    "matrice = npr.random((4,6))"
   ]
  },
  {
   "cell_type": "code",
   "execution_count": 3,
   "id": "6585c69d-54fb-4542-97b6-d077ba73a81c",
   "metadata": {
    "tags": []
   },
   "outputs": [
    {
     "data": {
      "text/plain": [
       "array([0.14448826, 0.45599027, 0.79347015, 0.40858605, 0.14819496,\n",
       "       0.02477572])"
      ]
     },
     "execution_count": 3,
     "metadata": {},
     "output_type": "execute_result"
    }
   ],
   "source": [
    "matrice[1,:]"
   ]
  },
  {
   "cell_type": "code",
   "execution_count": null,
   "id": "02379a12-074a-4952-b942-0551160ac504",
   "metadata": {},
   "outputs": [],
   "source": []
  }
 ],
 "metadata": {
  "kernelspec": {
   "display_name": "Python 3 (ipykernel)",
   "language": "python",
   "name": "python3"
  },
  "language_info": {
   "codemirror_mode": {
    "name": "ipython",
    "version": 3
   },
   "file_extension": ".py",
   "mimetype": "text/x-python",
   "name": "python",
   "nbconvert_exporter": "python",
   "pygments_lexer": "ipython3",
   "version": "3.12.2"
  }
 },
 "nbformat": 4,
 "nbformat_minor": 5
}
