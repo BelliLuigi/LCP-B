{
 "cells": [
  {
   "cell_type": "code",
   "execution_count": 5,
   "id": "66820861-83e3-4696-9213-255224fb8c28",
   "metadata": {},
   "outputs": [],
   "source": [
    "import numpy.random as npr\n",
    "import numpy as np"
   ]
  },
  {
   "cell_type": "code",
   "execution_count": 67,
   "id": "e0ab9796-679c-4701-8ffd-d608c858ab76",
   "metadata": {},
   "outputs": [
    {
     "data": {
      "text/plain": [
       "array([0, 1, 0, 0, 0, 0, 0, 1, 1, 0, 0, 0, 0, 0, 0, 1, 0, 1])"
      ]
     },
     "execution_count": 67,
     "metadata": {},
     "output_type": "execute_result"
    }
   ],
   "source": [
    "npr.binomial(1,a)"
   ]
  },
  {
   "cell_type": "code",
   "execution_count": 66,
   "id": "ad4b16b6-80e7-4881-8b6f-148ee0411b8c",
   "metadata": {},
   "outputs": [],
   "source": [
    "a = np.array([0.57129561, 0.88392118, 0.30788199,\n",
    " 0.18301142, 0.73281625, 0.45352582,\n",
    " 0.47938258, 0.52550463, 0.80663222, 0.37344665 ,0.55980341, 0.45625288,0.63751943, 0.57666173 ,0.53997123,\n",
    " 0.59600112, 0.7051424 , 0.45774234])"
   ]
  },
  {
   "cell_type": "code",
   "execution_count": 22,
   "id": "83e5116d-5316-46b0-a131-eeadd20667ae",
   "metadata": {},
   "outputs": [
    {
     "name": "stdout",
     "output_type": "stream",
     "text": [
      "0.2689414213699951 1.0 0.5\n"
     ]
    }
   ],
   "source": [
    "from scipy.special import expit\n",
    "\n",
    "print(expit(-1),\n",
    "expit(1000),\n",
    "expit(0))"
   ]
  },
  {
   "cell_type": "code",
   "execution_count": 14,
   "id": "9d536aad-f321-40fa-b3f1-6b589ea69d57",
   "metadata": {},
   "outputs": [
    {
     "data": {
      "text/plain": [
       "1.0"
      ]
     },
     "execution_count": 14,
     "metadata": {},
     "output_type": "execute_result"
    }
   ],
   "source": [
    "expit(+np.inf)"
   ]
  },
  {
   "cell_type": "code",
   "execution_count": 70,
   "id": "9af20db0-e3b0-4c71-b4e1-30f6352f2b07",
   "metadata": {},
   "outputs": [
    {
     "name": "stdout",
     "output_type": "stream",
     "text": [
      "1e+100 1e-100\n"
     ]
    }
   ],
   "source": [
    "print(1e100,\n",
    "1e-100)"
   ]
  },
  {
   "cell_type": "code",
   "execution_count": 71,
   "id": "bef9448d-6d85-4f70-b913-ac304addd63e",
   "metadata": {},
   "outputs": [
    {
     "data": {
      "text/plain": [
       "1.0142320547350045e+304"
      ]
     },
     "execution_count": 71,
     "metadata": {},
     "output_type": "execute_result"
    }
   ],
   "source": [
    "np.exp(700)"
   ]
  },
  {
   "cell_type": "code",
   "execution_count": null,
   "id": "6ee173b2-a31e-4fd6-9331-8de1a64acf68",
   "metadata": {},
   "outputs": [],
   "source": []
  }
 ],
 "metadata": {
  "kernelspec": {
   "display_name": "Python 3 (ipykernel)",
   "language": "python",
   "name": "python3"
  },
  "language_info": {
   "codemirror_mode": {
    "name": "ipython",
    "version": 3
   },
   "file_extension": ".py",
   "mimetype": "text/x-python",
   "name": "python",
   "nbconvert_exporter": "python",
   "pygments_lexer": "ipython3",
   "version": "3.12.2"
  }
 },
 "nbformat": 4,
 "nbformat_minor": 5
}
