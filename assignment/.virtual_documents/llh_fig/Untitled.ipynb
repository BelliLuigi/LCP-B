import numpy.random as npr
import numpy as np


npr.binomial(1,a)


a = np.array([0.57129561, 0.88392118, 0.30788199,
 0.18301142, 0.73281625, 0.45352582,
 0.47938258, 0.52550463, 0.80663222, 0.37344665 ,0.55980341, 0.45625288,0.63751943, 0.57666173 ,0.53997123,
 0.59600112, 0.7051424 , 0.45774234])


from scipy.special import expit

print(expit(-1),
expit(1000),
expit(0))


expit(+np.inf)


print(1e100,
1e-100)


np.exp(700)



