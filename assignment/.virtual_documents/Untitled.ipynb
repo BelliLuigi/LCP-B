import numpy.random as npr
import numpy as np


w = npr.randn(400,400)


sigma = np.sqrt(4. / float(21000 + 3))


w*sigma


















