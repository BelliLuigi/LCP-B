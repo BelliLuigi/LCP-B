{
 "cells": [
  {
   "cell_type": "code",
   "execution_count": 2,
   "id": "eb336b7e-756a-4477-8790-21f3a09ccf95",
   "metadata": {},
   "outputs": [
    {
     "ename": "LoadError",
     "evalue": "UndefVarError: `Pkg` not defined in `Main`\nSuggestion: check for spelling errors or missing imports.\nHint: Pkg is loaded but not imported in the active module Main.",
     "output_type": "error",
     "traceback": [
      "UndefVarError: `Pkg` not defined in `Main`\nSuggestion: check for spelling errors or missing imports.\nHint: Pkg is loaded but not imported in the active module Main.",
      "",
      "Stacktrace:",
      " [1] top-level scope",
      "   @ In[2]:1"
     ]
    }
   ],
   "source": [
    "Pkg.add(\"Boltzmann\")"
   ]
  },
  {
   "cell_type": "code",
   "execution_count": null,
   "id": "4d11ab84-f905-4875-b61e-039a62f82ebc",
   "metadata": {},
   "outputs": [],
   "source": []
  }
 ],
 "metadata": {
  "kernelspec": {
   "display_name": "Python 3 (ipykernel)",
   "language": "python",
   "name": "python3"
  },
  "language_info": {
   "codemirror_mode": {
    "name": "ipython",
    "version": 3
   },
   "file_extension": ".py",
   "mimetype": "text/x-python",
   "name": "python",
   "nbconvert_exporter": "python",
   "pygments_lexer": "ipython3",
   "version": "3.12.9"
  }
 },
 "nbformat": 4,
 "nbformat_minor": 5
}
