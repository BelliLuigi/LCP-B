{
 "cells": [
  {
   "cell_type": "code",
   "execution_count": 2,
   "id": "eb336b7e-756a-4477-8790-21f3a09ccf95",
   "metadata": {},
   "outputs": [
    {
     "ename": "LoadError",
     "evalue": "UndefVarError: `Pkg` not defined in `Main`\nSuggestion: check for spelling errors or missing imports.\nHint: Pkg is loaded but not imported in the active module Main.",
     "output_type": "error",
     "traceback": [
      "UndefVarError: `Pkg` not defined in `Main`\nSuggestion: check for spelling errors or missing imports.\nHint: Pkg is loaded but not imported in the active module Main.",
      "",
      "Stacktrace:",
      " [1] top-level scope",
      "   @ In[2]:1"
     ]
    }
   ],
   "source": [
    "Pkg.add(\"Boltzmann\")"
   ]
  },
  {
   "cell_type": "code",
   "execution_count": null,
   "id": "4d11ab84-f905-4875-b61e-039a62f82ebc",
   "metadata": {},
   "outputs": [],
   "source": []
  }
 ],
 "metadata": {
  "kernelspec": {
   "display_name": "Julia 1.11.3",
   "language": "julia",
   "name": "julia-1.11"
  },
  "language_info": {
   "file_extension": ".jl",
   "mimetype": "application/julia",
   "name": "julia",
   "version": "1.11.3"
  }
 },
 "nbformat": 4,
 "nbformat_minor": 5
}
