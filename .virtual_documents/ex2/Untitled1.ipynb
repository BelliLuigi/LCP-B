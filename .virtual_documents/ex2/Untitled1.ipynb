import pandas as pd

data = {'8': [[1,3]],'9':None}


data['8'].append(5)


data['8']


list_{digit}.append(3)


import numpy as np
a = np.array([1,4])


b = a.tolist()


''.join(map(str, a))


array_da_riordinare = np.array(['f','b','b','b','b'])

a = np.array(['e','f','h','b','c'])
_ , counts = np.unique(a,return_counts=True)
print(counts)


#1 riordinare
2# contare
import matplotlib.pyplot as plt
plt.hist(array_da_riordinare, a)
plt.show()


# trasformare gli stati in numeri.

stati = np.array(['00','01','10','11'])
staticount = np.array(['01','01','00'])


stati.astype(np.int64())


get_ipython().run_line_magic('pinfo',  'np.int64')


a = np.array(['a','a','a', 'b'])
plt.hist(a)



