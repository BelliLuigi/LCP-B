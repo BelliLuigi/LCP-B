


import seaborn as sns
bins_tutti = np.arange(0,2**L)
vuoto = np.zeros(1024)
unique, counts = np.unique(digit_data9,return_counts=True)
for i in bins_tutti:
    if i in unique:
        index = np.argmax(unique == i)
        count = counts[index]
        vuoto[i] =  count
    else:
        vuoto[i] = 0
print(pieno := vuoto.reshape((int(2**(L/2)),int(2**(L/2)))))
sns.heatmap(pieno)
plt.xticks
plt.show()


vuoto.shape


import numpy as np
np.arange(1,200,1)[[2,3,4,198]]


import seaborn as sns
bins_tutti = np.arange(0,2**L)
vuoto = np.zeros(1024)
unique, counts = np.unique(digit_data9,return_counts=True)
for i in bins_tutti:
    if i in unique:
        index = np.argmax(unique == i)
        count = counts[index]
        vuoto[i] =  count
    else:
        vuoto[i] = 0
print(pieno := vuoto.reshape((int(2**(L/2)),int(2**(L/2)))))
sns.heatmap(pieno)
plt.xticks
plt.show()
