import numpy as np
import matplotlib.pyplot as plt
import matplotlib.cm as cm
import os

# number of data
N=5000
# size of each sample
L=4
# box size
B=100

get_ipython().getoutput("mkdir DATA")


def f(x):
    Q=np.heaviside(np.sin(np.pi*(x[1]+2*x[0])*(2*x[1]-x[0])/2000),0)
    return Q

def filename(s):
    return "DATA/"+s+".dat"

# random seed for reproducibility
np.random.seed(12345)
print(np.random.randint(0,10),np.random.randint(0,10),np.random.randint(0,10))

x,y = (np.random.random((N,L))-0.5)*B, np.zeros(N).astype(int)
for i in range(N):
    # label data according to a nonlinear function "f"
    y[i] = f(x[i,:2])
        
plt.figure(figsize = (5,5))
plt.scatter(x[:,0],x[:,1],c=y,s=4,cmap="winter")
plt.show

fn=filename("x_XGB_25")
print(fn)

np.savetxt(fn,x,fmt="%.3f")
fn=filename("y_XGB_25")
np.savetxt(fn,y,fmt="%d")
print(fn)



